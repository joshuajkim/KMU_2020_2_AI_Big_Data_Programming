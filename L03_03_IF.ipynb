{
 "cells": [
  {
   "cell_type": "code",
   "execution_count": 37,
   "metadata": {},
   "outputs": [
    {
     "name": "stdout",
     "output_type": "stream",
     "text": [
      "Please enter your birthyear:1994\n",
      "Not a student\n"
     ]
    }
   ],
   "source": [
    "BirthYear = input('Please enter your birthyear:')\n",
    "Age = 2020 - int(BirthYear) + 1\n",
    "if Age >= 20 and Age <= 26:\n",
    "    print('Collge Student')\n",
    "elif Age >= 17 and Age < 20:\n",
    "    print('High School Student')\n",
    "elif Age >= 14 and Age < 17:\n",
    "    print('Middle School Student')\n",
    "elif Age > 8 and Age < 14:\n",
    "    print('Elementary School Student')\n",
    "else:\n",
    "    print('Not a student')"
   ]
  },
  {
   "cell_type": "code",
   "execution_count": null,
   "metadata": {},
   "outputs": [],
   "source": []
  }
 ],
 "metadata": {
  "kernelspec": {
   "display_name": "Python 3",
   "language": "python",
   "name": "python3"
  },
  "language_info": {
   "codemirror_mode": {
    "name": "ipython",
    "version": 3
   },
   "file_extension": ".py",
   "mimetype": "text/x-python",
   "name": "python",
   "nbconvert_exporter": "python",
   "pygments_lexer": "ipython3",
   "version": "3.8.3"
  }
 },
 "nbformat": 4,
 "nbformat_minor": 4
}
