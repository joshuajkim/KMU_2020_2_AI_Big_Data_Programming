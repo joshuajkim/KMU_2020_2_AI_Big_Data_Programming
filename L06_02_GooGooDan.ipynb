{
 "cells": [
  {
   "cell_type": "code",
   "execution_count": 4,
   "metadata": {},
   "outputs": [
    {
     "name": "stdout",
     "output_type": "stream",
     "text": [
      "Please enter an integer between 2 and 9 (inclusive):5\n",
      "5 X 1 = 5\n",
      "5 X 2 = 10\n",
      "5 X 3 = 15\n",
      "5 X 4 = 20\n",
      "5 X 5 = 25\n",
      "5 X 6 = 30\n",
      "5 X 7 = 35\n",
      "5 X 8 = 40\n",
      "5 X 9 = 45\n"
     ]
    }
   ],
   "source": [
    "while True:\n",
    "    value = input('Please enter an integer between 2 and 9 (inclusive):')\n",
    "    try:\n",
    "        value = int(value)\n",
    "        if value >= 2 and value <= 9:\n",
    "            break\n",
    "        print('Integer should be between 2 and 9!')\n",
    "    except:\n",
    "        print('This is not an integer!')\n",
    "\n",
    "for i in range(1, 10):\n",
    "    print(value, 'X', i, '=', value * i)"
   ]
  },
  {
   "cell_type": "code",
   "execution_count": 10,
   "metadata": {},
   "outputs": [
    {
     "name": "stdout",
     "output_type": "stream",
     "text": [
      "Please enter an integer between 2 and 9 (inclusive):4\n",
      "4 X 1 = 4\n",
      "4 X 2 = 8\n",
      "4 X 3 = 12\n",
      "4 X 4 = 16\n",
      "4 X 5 = 20\n",
      "4 X 6 = 24\n",
      "4 X 7 = 28\n",
      "4 X 8 = 32\n",
      "4 X 9 = 36\n",
      "Please enter an integer between 2 and 9 (inclusive):4\n",
      "4 X 1 = 4\n",
      "4 X 2 = 8\n",
      "4 X 3 = 12\n",
      "4 X 4 = 16\n",
      "4 X 5 = 20\n",
      "4 X 6 = 24\n",
      "4 X 7 = 28\n",
      "4 X 8 = 32\n",
      "4 X 9 = 36\n",
      "Please enter an integer between 2 and 9 (inclusive):5\n",
      "5 X 1 = 5\n",
      "5 X 2 = 10\n",
      "5 X 3 = 15\n",
      "5 X 4 = 20\n",
      "5 X 5 = 25\n",
      "5 X 6 = 30\n",
      "5 X 7 = 35\n",
      "5 X 8 = 40\n",
      "5 X 9 = 45\n",
      "Please enter an integer between 2 and 9 (inclusive):6\n",
      "6 X 1 = 6\n",
      "6 X 2 = 12\n",
      "6 X 3 = 18\n",
      "6 X 4 = 24\n",
      "6 X 5 = 30\n",
      "6 X 6 = 36\n",
      "6 X 7 = 42\n",
      "6 X 8 = 48\n",
      "6 X 9 = 54\n",
      "Please enter an integer between 2 and 9 (inclusive):finish\n",
      "This is not an integer!\n",
      "Please enter an integer between 2 and 9 (inclusive):Finish\n"
     ]
    }
   ],
   "source": [
    "p = 0\n",
    "\n",
    "while p == 0:\n",
    "    while True:\n",
    "        value = input('Please enter an integer between 2 and 9 (inclusive):')\n",
    "        if value == 'Finish':\n",
    "            p = 1\n",
    "            break\n",
    "        try:\n",
    "            value = int(value)\n",
    "            if value >= 2 and value <= 9:\n",
    "                for i in range(1, 10):\n",
    "                    print(value, 'X', i, '=', value * i)\n",
    "                break\n",
    "            print('Integer should be between 2 and 9!')\n",
    "        except:\n",
    "            print('This is not an integer!')"
   ]
  },
  {
   "cell_type": "code",
   "execution_count": null,
   "metadata": {},
   "outputs": [],
   "source": []
  }
 ],
 "metadata": {
  "kernelspec": {
   "display_name": "Python 3",
   "language": "python",
   "name": "python3"
  },
  "language_info": {
   "codemirror_mode": {
    "name": "ipython",
    "version": 3
   },
   "file_extension": ".py",
   "mimetype": "text/x-python",
   "name": "python",
   "nbconvert_exporter": "python",
   "pygments_lexer": "ipython3",
   "version": "3.8.3"
  }
 },
 "nbformat": 4,
 "nbformat_minor": 4
}
