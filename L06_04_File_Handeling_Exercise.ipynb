{
 "cells": [
  {
   "cell_type": "code",
   "execution_count": 3,
   "metadata": {},
   "outputs": [],
   "source": [
    "# write mode에서는 웬만하면 꼭 encoding 파라미터도 적어주자!\n",
    "with open('count_log.txt', 'w', encoding='utf-8') as f:\n",
    "    for i in range(1, 11, 1):\n",
    "        data = 'Line %d: \\n' %i\n",
    "        f.write(data)\n",
    "# 현재 Directory에 count_log.txt가 생성된 것을 확인할 수 있음!"
   ]
  },
  {
   "cell_type": "code",
   "execution_count": 14,
   "metadata": {},
   "outputs": [],
   "source": [
    "# a 모드에서는 write와 다르게, 기존 데이터 다음부터 추가한다!\n",
    "with open('count_log.txt', 'a', encoding='utf-8') as f:\n",
    "    for i in range(11, 21, 1):\n",
    "        data = 'Line %d: \\n' %i\n",
    "        f.write(data)\n",
    "# 현재 Directory에 count_log.txt가 11~20도 가지고 있는 것을 확인할 수 있음!"
   ]
  },
  {
   "cell_type": "code",
   "execution_count": 6,
   "metadata": {},
   "outputs": [],
   "source": [
    "# Folder 만드는 방법!\n",
    "import os\n",
    "os.mkdir('Joshua')\n",
    "# However, 이 방법은 기존에 이미 Joshua라는 폴더가 존재할 경우에 Error가 발생한다!\n",
    "# 따라서 Error Handeling을 해줘야 한다."
   ]
  },
  {
   "cell_type": "code",
   "execution_count": 9,
   "metadata": {},
   "outputs": [],
   "source": [
    "# Folder 만드는 방법! (이미 존재할 경우의 Error Handeling)\n",
    "import os\n",
    "if os.path.isdir('Joshua') == False:\n",
    "    os.mkdir('Joshua') #does 'Joshua' folder exist on this directory?"
   ]
  },
  {
   "cell_type": "code",
   "execution_count": 11,
   "metadata": {},
   "outputs": [
    {
     "name": "stdout",
     "output_type": "stream",
     "text": [
      "Folder named Joshua already exists!\n"
     ]
    }
   ],
   "source": [
    "# Or this way!\n",
    "try:\n",
    "    os.mkdir('Joshua')\n",
    "except:\n",
    "    print('Folder named Joshua already exists!')"
   ]
  },
  {
   "cell_type": "code",
   "execution_count": 17,
   "metadata": {},
   "outputs": [
    {
     "name": "stdout",
     "output_type": "stream",
     "text": [
      "The folder named 'Joshua' already exists!\n"
     ]
    }
   ],
   "source": [
    "import os\n",
    "\n",
    "try: #Joshua라는 폴더가 존재하지 않을 경우\n",
    "    os.mkdir('Joshua')\n",
    "except: #Joshua라는 폴더가 이미 존재할 경우\n",
    "    print(\"The folder named 'Joshua' already exists!\")\n",
    "\n",
    "with open('Joshua/count_log.txt', 'w', encoding='utf-8') as f:\n",
    "    f.write('Now Writing is going to get started! \\n')\n",
    "    for i in range(1, 21, 1):\n",
    "        data = 'Line %d: \\n' % i\n",
    "        f.write(data)"
   ]
  },
  {
   "cell_type": "code",
   "execution_count": 22,
   "metadata": {},
   "outputs": [],
   "source": [
    "import random, datetime\n",
    "\n",
    "with open('Joshua/count_log.txt', 'a', encoding='utf-8') as f:\n",
    "    for i in range(1, 11, 1):\n",
    "        stamp = str(datetime.datetime.now()) # 현재시각\n",
    "        value = random.random() * 1000000\n",
    "        log_line = stamp + '\\t' + str(value) + 'Value is going to be created!' + '\\n'\n",
    "        f.write(log_line)"
   ]
  }
 ],
 "metadata": {
  "kernelspec": {
   "display_name": "Python 3",
   "language": "python",
   "name": "python3"
  },
  "language_info": {
   "codemirror_mode": {
    "name": "ipython",
    "version": 3
   },
   "file_extension": ".py",
   "mimetype": "text/x-python",
   "name": "python",
   "nbconvert_exporter": "python",
   "pygments_lexer": "ipython3",
   "version": "3.8.3"
  }
 },
 "nbformat": 4,
 "nbformat_minor": 4
}
