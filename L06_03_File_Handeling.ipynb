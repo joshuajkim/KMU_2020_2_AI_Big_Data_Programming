{
 "cells": [
  {
   "cell_type": "code",
   "execution_count": 10,
   "metadata": {},
   "outputs": [],
   "source": [
    "# 상대경로\n",
    "f = open('data/dream.txt', 'r')"
   ]
  },
  {
   "cell_type": "code",
   "execution_count": 11,
   "metadata": {},
   "outputs": [],
   "source": [
    "#절대경로\n",
    "FPath_str = 'C:/Users/Joshua Jinseok Kim/Dropbox/Kookmin AI Big Data MBA/Semester 1_092020-122020/01. AI Big Data Programming/Jupyter Notebook/data/dream.txt'\n",
    "f = open(FPath_str, 'r')"
   ]
  },
  {
   "cell_type": "code",
   "execution_count": 12,
   "metadata": {},
   "outputs": [],
   "source": [
    "contents = f.read()\n",
    "f.close() #Python이 dream.txt을 계속 stick하지 않도록, 반드시 f.close()를 해준다."
   ]
  },
  {
   "cell_type": "code",
   "execution_count": 13,
   "metadata": {},
   "outputs": [
    {
     "data": {
      "text/plain": [
       "'I have a dream a song to sing\\nto help me cope with anything\\nif you see the wonder of a fairy tale\\nyou can take the future even\\nif you fail I believe in angels\\nsomething good in everything'"
      ]
     },
     "execution_count": 13,
     "metadata": {},
     "output_type": "execute_result"
    }
   ],
   "source": [
    "contents"
   ]
  },
  {
   "cell_type": "code",
   "execution_count": 16,
   "metadata": {},
   "outputs": [
    {
     "name": "stdout",
     "output_type": "stream",
     "text": [
      "I have a dream a song to sing\n",
      "to help me cope with anything\n",
      "if you see the wonder of a fairy tale\n",
      "you can take the future even\n",
      "if you fail I believe in angels\n",
      "something good in everything\n"
     ]
    }
   ],
   "source": [
    "# With와 함께 쓰면, indented된 코드에서만 open이 유지가 되고, 벗어나면 자동으로 close가 됨!\n",
    "with open('data/dream.txt', 'r') as f:\n",
    "    contents = f.read()\n",
    "print(contents)"
   ]
  },
  {
   "cell_type": "code",
   "execution_count": 27,
   "metadata": {},
   "outputs": [
    {
     "name": "stdout",
     "output_type": "stream",
     "text": [
      "<class 'list'>\n",
      "['I have a dream a song to sing\\n', 'to help me cope with anything\\n', 'if you see the wonder of a fairy tale\\n', 'you can take the future even\\n', 'if you fail I believe in angels\\n', 'something good in everything']\n",
      "I have a dream a song to sing\n",
      "to help me cope with anything\n",
      "if you see the wonder of a fairy tale\n",
      "you can take the future even\n",
      "if you fail I believe in angels\n",
      "something good in everything\n"
     ]
    }
   ],
   "source": [
    "# readlines() method는 한 줄씩 List형태로 변환한다. (한 줄의 구분은 \\n)\n",
    "with open('data/dream.txt', 'r') as f:\n",
    "    contents_list = f.readlines()\n",
    "print(type(contents_list))\n",
    "print(contents_list)\n",
    "for eachline in contents_list:\n",
    "    print(eachline.replace('\\n', ''))"
   ]
  },
  {
   "cell_type": "code",
   "execution_count": 34,
   "metadata": {},
   "outputs": [
    {
     "name": "stdout",
     "output_type": "stream",
     "text": [
      "1 === I have a dream a song to sing\n",
      "2 === to help me cope with anything\n",
      "3 === if you see the wonder of a fairy tale\n",
      "4 === you can take the future even\n",
      "5 === if you fail I believe in angels\n",
      "6 === something good in everything\n"
     ]
    }
   ],
   "source": [
    "# readline() method는 한 줄씩 순차적으로 읽어나간다.\n",
    "i = 0\n",
    "\n",
    "with open('data/dream.txt', 'r') as f:\n",
    "    while 1:\n",
    "        i = i + 1\n",
    "        line = f.readline()\n",
    "        if not line: #line이 ''(None)일 경우, bool(line) = False로 되므로!\n",
    "            break\n",
    "        print(str(i) + ' === ' + line.replace('\\n', ''))"
   ]
  },
  {
   "cell_type": "code",
   "execution_count": 37,
   "metadata": {},
   "outputs": [
    {
     "name": "stdout",
     "output_type": "stream",
     "text": [
      "Number of lines: 6\n",
      "Number of words: 40\n",
      "Number of letters: 148\n"
     ]
    }
   ],
   "source": [
    "# number of lines\n",
    "with open('data/dream.txt', 'r') as f:\n",
    "    Lines_list = f.readlines()\n",
    "print('Number of lines:', len(Lines_list))\n",
    "\n",
    "# number of words\n",
    "Cnt_word = 0\n",
    "for line in Lines_list:\n",
    "    Cnt_word_in_line = len(line.split(' '))\n",
    "    Cnt_word = Cnt_word + Cnt_word_in_line \n",
    "print('Number of words:', Cnt_word)\n",
    "\n",
    "# number of letters\n",
    "Cnt_letter = 0\n",
    "for line in Lines_list:\n",
    "    for letter in line:\n",
    "        if letter != '\\n' and letter != ' ':\n",
    "            Cnt_letter = Cnt_letter + 1\n",
    "print('Number of letters:', Cnt_letter)"
   ]
  },
  {
   "cell_type": "code",
   "execution_count": 40,
   "metadata": {},
   "outputs": [
    {
     "name": "stdout",
     "output_type": "stream",
     "text": [
      "I\n",
      "have\n",
      "a\n",
      "dream\n",
      "a\n",
      "song\n",
      "to\n",
      "sing\n",
      "to\n",
      "help\n",
      "me\n",
      "cope\n",
      "with\n",
      "anything\n",
      "if\n",
      "you\n",
      "see\n",
      "the\n",
      "wonder\n",
      "of\n",
      "a\n",
      "fairy\n",
      "tale\n",
      "you\n",
      "can\n",
      "take\n",
      "the\n",
      "future\n",
      "even\n",
      "if\n",
      "you\n",
      "fail\n",
      "I\n",
      "believe\n",
      "in\n",
      "angels\n",
      "something\n",
      "good\n",
      "in\n",
      "everything\n"
     ]
    }
   ],
   "source": [
    "# All the words in the new list\n",
    "word_list = []\n",
    "with open('data/dream.txt', 'r') as f:\n",
    "    contents = f.read()\n",
    "Lines_list = contents.split('\\n')\n",
    "for word in [line.split(' ') for line in Lines_list]:\n",
    "    word_list.extend(word)\n",
    "for item in word_list:\n",
    "    print(item)"
   ]
  },
  {
   "cell_type": "code",
   "execution_count": 41,
   "metadata": {},
   "outputs": [
    {
     "data": {
      "text/plain": [
       "31"
      ]
     },
     "execution_count": 41,
     "metadata": {},
     "output_type": "execute_result"
    }
   ],
   "source": [
    "# 중복제거 (set)하여 총 고유한 단어들 숫자 알아내기\n",
    "len(set(word_list))"
   ]
  },
  {
   "cell_type": "code",
   "execution_count": null,
   "metadata": {},
   "outputs": [],
   "source": []
  }
 ],
 "metadata": {
  "kernelspec": {
   "display_name": "Python 3",
   "language": "python",
   "name": "python3"
  },
  "language_info": {
   "codemirror_mode": {
    "name": "ipython",
    "version": 3
   },
   "file_extension": ".py",
   "mimetype": "text/x-python",
   "name": "python",
   "nbconvert_exporter": "python",
   "pygments_lexer": "ipython3",
   "version": "3.8.3"
  }
 },
 "nbformat": 4,
 "nbformat_minor": 4
}
