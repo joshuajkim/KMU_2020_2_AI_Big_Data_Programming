{
 "cells": [
  {
   "cell_type": "code",
   "execution_count": 1,
   "metadata": {},
   "outputs": [],
   "source": [
    "import pandas as pd\n",
    "import numpy as np"
   ]
  },
  {
   "cell_type": "code",
   "execution_count": 2,
   "metadata": {},
   "outputs": [
    {
     "data": {
      "text/html": [
       "<div>\n",
       "<style scoped>\n",
       "    .dataframe tbody tr th:only-of-type {\n",
       "        vertical-align: middle;\n",
       "    }\n",
       "\n",
       "    .dataframe tbody tr th {\n",
       "        vertical-align: top;\n",
       "    }\n",
       "\n",
       "    .dataframe thead th {\n",
       "        text-align: right;\n",
       "    }\n",
       "</style>\n",
       "<table border=\"1\" class=\"dataframe\">\n",
       "  <thead>\n",
       "    <tr style=\"text-align: right;\">\n",
       "      <th></th>\n",
       "      <th>Name</th>\n",
       "      <th>Birth</th>\n",
       "      <th>email</th>\n",
       "    </tr>\n",
       "  </thead>\n",
       "  <tbody>\n",
       "    <tr>\n",
       "      <th>0</th>\n",
       "      <td>Captain</td>\n",
       "      <td>2019-01-01 9:10</td>\n",
       "      <td>happy@gmail.com</td>\n",
       "    </tr>\n",
       "    <tr>\n",
       "      <th>1</th>\n",
       "      <td>Hulk</td>\n",
       "      <td>2019-01-08 9:20</td>\n",
       "      <td>1004@NAVER.COM</td>\n",
       "    </tr>\n",
       "    <tr>\n",
       "      <th>2</th>\n",
       "      <td>Iron</td>\n",
       "      <td>2019-02-01 10:20</td>\n",
       "      <td>Iron at yahoo.co.kr</td>\n",
       "    </tr>\n",
       "    <tr>\n",
       "      <th>3</th>\n",
       "      <td>Widow</td>\n",
       "      <td>2019-02-02 11:40</td>\n",
       "      <td>\\tWidow@gmail.com</td>\n",
       "    </tr>\n",
       "    <tr>\n",
       "      <th>4</th>\n",
       "      <td>Thor</td>\n",
       "      <td>2019-02-28 15:10</td>\n",
       "      <td>thor@daum.net\\t</td>\n",
       "    </tr>\n",
       "  </tbody>\n",
       "</table>\n",
       "</div>"
      ],
      "text/plain": [
       "      Name             Birth                  email\n",
       "0  Captain   2019-01-01 9:10       happy@gmail.com \n",
       "1     Hulk   2019-01-08 9:20         1004@NAVER.COM\n",
       "2     Iron  2019-02-01 10:20   Iron at yahoo.co.kr \n",
       "3    Widow  2019-02-02 11:40      \\tWidow@gmail.com\n",
       "4     Thor  2019-02-28 15:10        thor@daum.net\\t"
      ]
     },
     "execution_count": 2,
     "metadata": {},
     "output_type": "execute_result"
    }
   ],
   "source": [
    "df = pd.read_csv('data/sample_df.csv')\n",
    "df.head()"
   ]
  },
  {
   "cell_type": "code",
   "execution_count": 3,
   "metadata": {},
   "outputs": [
    {
     "data": {
      "text/plain": [
       "0       happy@gmail.com\n",
       "1        1004@NAVER.COM\n",
       "2      Iron@yahoo.co.kr\n",
       "3       Widow@gmail.com\n",
       "4         thor@daum.net\n",
       "5    HAWK@kookmin.ac.kr\n",
       "6      loki88@gmail.com\n",
       "7        fury@NAVER.COM\n",
       "8       FALCON@daum.net\n",
       "9     strange@gmail.com\n",
       "Name: email, dtype: object"
      ]
     },
     "execution_count": 3,
     "metadata": {},
     "output_type": "execute_result"
    }
   ],
   "source": [
    "email = df['email']\n",
    "email = email.str.strip()\n",
    "email = email.str.replace(' at ', '@')\n",
    "email"
   ]
  },
  {
   "cell_type": "code",
   "execution_count": 4,
   "metadata": {},
   "outputs": [
    {
     "data": {
      "text/plain": [
       "0       happy@gmail.com\n",
       "1        1004@naver.com\n",
       "2      iron@yahoo.co.kr\n",
       "3       widow@gmail.com\n",
       "4         thor@daum.net\n",
       "5    hawk@kookmin.ac.kr\n",
       "6      loki88@gmail.com\n",
       "7        fury@naver.com\n",
       "8       falcon@daum.net\n",
       "9     strange@gmail.com\n",
       "Name: email, dtype: object"
      ]
     },
     "execution_count": 4,
     "metadata": {},
     "output_type": "execute_result"
    }
   ],
   "source": [
    "# Lowercase\n",
    "email.str.lower()"
   ]
  },
  {
   "cell_type": "code",
   "execution_count": 5,
   "metadata": {},
   "outputs": [
    {
     "data": {
      "text/plain": [
       "0       HAPPY@GMAIL.COM\n",
       "1        1004@NAVER.COM\n",
       "2      IRON@YAHOO.CO.KR\n",
       "3       WIDOW@GMAIL.COM\n",
       "4         THOR@DAUM.NET\n",
       "5    HAWK@KOOKMIN.AC.KR\n",
       "6      LOKI88@GMAIL.COM\n",
       "7        FURY@NAVER.COM\n",
       "8       FALCON@DAUM.NET\n",
       "9     STRANGE@GMAIL.COM\n",
       "Name: email, dtype: object"
      ]
     },
     "execution_count": 5,
     "metadata": {},
     "output_type": "execute_result"
    }
   ],
   "source": [
    "# Uppercase\n",
    "email.str.upper()"
   ]
  },
  {
   "cell_type": "code",
   "execution_count": null,
   "metadata": {},
   "outputs": [],
   "source": []
  },
  {
   "cell_type": "code",
   "execution_count": 6,
   "metadata": {},
   "outputs": [
    {
     "data": {
      "text/plain": [
       "0       Happy@gmail.com\n",
       "1        1004@naver.com\n",
       "2      Iron@yahoo.co.kr\n",
       "3       Widow@gmail.com\n",
       "4         Thor@daum.net\n",
       "5    Hawk@kookmin.ac.kr\n",
       "6      Loki88@gmail.com\n",
       "7        Fury@naver.com\n",
       "8       Falcon@daum.net\n",
       "9     Strange@gmail.com\n",
       "Name: email, dtype: object"
      ]
     },
     "execution_count": 6,
     "metadata": {},
     "output_type": "execute_result"
    }
   ],
   "source": [
    "# Capitalize: only first letter uppercase, and then lowercase all!\n",
    "email.str.capitalize()"
   ]
  },
  {
   "cell_type": "code",
   "execution_count": 7,
   "metadata": {},
   "outputs": [
    {
     "data": {
      "text/plain": [
       "0     True\n",
       "1    False\n",
       "2    False\n",
       "3    False\n",
       "4    False\n",
       "5    False\n",
       "6    False\n",
       "7    False\n",
       "8    False\n",
       "9    False\n",
       "Name: email, dtype: bool"
      ]
     },
     "execution_count": 7,
     "metadata": {},
     "output_type": "execute_result"
    }
   ],
   "source": [
    "# Startswith\n",
    "email.str.startswith('h')"
   ]
  },
  {
   "cell_type": "code",
   "execution_count": 8,
   "metadata": {},
   "outputs": [
    {
     "data": {
      "text/plain": [
       "0     True\n",
       "1    False\n",
       "2    False\n",
       "3     True\n",
       "4    False\n",
       "5    False\n",
       "6     True\n",
       "7    False\n",
       "8    False\n",
       "9     True\n",
       "Name: email, dtype: bool"
      ]
     },
     "execution_count": 8,
     "metadata": {},
     "output_type": "execute_result"
    }
   ],
   "source": [
    "# Endswith\n",
    "email.str.endswith('gmail.com')"
   ]
  },
  {
   "cell_type": "code",
   "execution_count": 9,
   "metadata": {},
   "outputs": [
    {
     "data": {
      "text/plain": [
       "0     True\n",
       "1    False\n",
       "2    False\n",
       "3     True\n",
       "4    False\n",
       "5    False\n",
       "6     True\n",
       "7    False\n",
       "8    False\n",
       "9     True\n",
       "Name: email, dtype: bool"
      ]
     },
     "execution_count": 9,
     "metadata": {},
     "output_type": "execute_result"
    }
   ],
   "source": [
    "# Contains: VBA's instr\n",
    "email.str.contains('gmail')"
   ]
  },
  {
   "cell_type": "code",
   "execution_count": 10,
   "metadata": {},
   "outputs": [
    {
     "data": {
      "text/plain": [
       "0      happy@gmail.com\n",
       "3      Widow@gmail.com\n",
       "6     loki88@gmail.com\n",
       "9    strange@gmail.com\n",
       "Name: email, dtype: object"
      ]
     },
     "execution_count": 10,
     "metadata": {},
     "output_type": "execute_result"
    }
   ],
   "source": [
    "# email with gmail\n",
    "gmail = email[email.str.contains('gmail')]\n",
    "gmail"
   ]
  },
  {
   "cell_type": "code",
   "execution_count": 11,
   "metadata": {},
   "outputs": [
    {
     "data": {
      "text/plain": [
       "1        1004@NAVER.COM\n",
       "2      Iron@yahoo.co.kr\n",
       "4         thor@daum.net\n",
       "5    HAWK@kookmin.ac.kr\n",
       "7        fury@NAVER.COM\n",
       "8       FALCON@daum.net\n",
       "Name: email, dtype: object"
      ]
     },
     "execution_count": 11,
     "metadata": {},
     "output_type": "execute_result"
    }
   ],
   "source": [
    "# email without gmail\n",
    "not_gmail = email[~ email.str.contains('gmail')]\n",
    "not_gmail"
   ]
  }
 ],
 "metadata": {
  "kernelspec": {
   "display_name": "Python 3",
   "language": "python",
   "name": "python3"
  },
  "language_info": {
   "codemirror_mode": {
    "name": "ipython",
    "version": 3
   },
   "file_extension": ".py",
   "mimetype": "text/x-python",
   "name": "python",
   "nbconvert_exporter": "python",
   "pygments_lexer": "ipython3",
   "version": "3.8.3"
  }
 },
 "nbformat": 4,
 "nbformat_minor": 4
}
